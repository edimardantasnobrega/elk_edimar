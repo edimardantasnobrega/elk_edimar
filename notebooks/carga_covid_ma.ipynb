{
 "metadata": {
  "language_info": {
   "codemirror_mode": {
    "name": "ipython",
    "version": 3
   },
   "file_extension": ".py",
   "mimetype": "text/x-python",
   "name": "python",
   "nbconvert_exporter": "python",
   "pygments_lexer": "ipython3",
   "version": "3.9.5"
  },
  "orig_nbformat": 4,
  "kernelspec": {
   "name": "python3",
   "display_name": "Python 3.9.1 64-bit"
  },
  "interpreter": {
   "hash": "63fd5069d213b44bf678585dea6b12cceca9941eaf7f819626cde1f2670de90d"
  }
 },
 "nbformat": 4,
 "nbformat_minor": 2,
 "cells": [
  {
   "cell_type": "code",
   "execution_count": 1,
   "metadata": {},
   "outputs": [],
   "source": [
    "import pandas as pd"
   ]
  },
  {
   "cell_type": "code",
   "execution_count": 2,
   "metadata": {},
   "outputs": [],
   "source": [
    "dfConvidMA = pd.read_csv(\"../dataset/dados-ma.csv\", delimiter=\";\")\n"
   ]
  },
  {
   "cell_type": "code",
   "execution_count": 3,
   "metadata": {},
   "outputs": [
    {
     "output_type": "stream",
     "name": "stdout",
     "text": [
      "<class 'pandas.core.frame.DataFrame'>\nRangeIndex: 997928 entries, 0 to 997927\nData columns (total 29 columns):\n #   Column                    Non-Null Count   Dtype  \n---  ------                    --------------   -----  \n 0   �id                       997928 non-null  object \n 1   dataNotificacao           996897 non-null  object \n 2   dataInicioSintomas        992513 non-null  object \n 3   dataNascimento            997928 non-null  object \n 4   sintomas                  997484 non-null  object \n 5   profissionalSaude         996330 non-null  object \n 6   cbo                       54189 non-null   object \n 7   condicoes                 91433 non-null   object \n 8   estadoTeste               964313 non-null  object \n 9   dataTeste                 789349 non-null  object \n 10  tipoTeste                 806270 non-null  object \n 11  resultadoTeste            706051 non-null  object \n 12  paisOrigem                997928 non-null  object \n 13  sexo                      997922 non-null  object \n 14  estado                    997928 non-null  object \n 15  estadoIBGE                997928 non-null  int64  \n 16  municipio                 997922 non-null  object \n 17  municipioIBGE             997846 non-null  float64\n 18  origem                    997928 non-null  object \n 19  estadoNotificacao         997926 non-null  object \n 20  estadoNotificacaoIBGE     997926 non-null  float64\n 21  municipioNotificacao      997907 non-null  object \n 22  municipioNotificacaoIBGE  997070 non-null  float64\n 23  excluido                  997928 non-null  object \n 24  validado                  997928 non-null  object \n 25  idade                     997924 non-null  float64\n 26  dataEncerramento          195240 non-null  object \n 27  evolucaoCaso              211417 non-null  object \n 28  classificacaoFinal        217605 non-null  object \ndtypes: float64(4), int64(1), object(24)\nmemory usage: 220.8+ MB\n"
     ]
    }
   ],
   "source": [
    "dfConvidMA.info()"
   ]
  },
  {
   "cell_type": "code",
   "execution_count": 4,
   "metadata": {},
   "outputs": [
    {
     "output_type": "stream",
     "name": "stdout",
     "text": [
      "<class 'pandas.core.frame.DataFrame'>\nRangeIndex: 997928 entries, 0 to 997927\nData columns (total 17 columns):\n #   Column                    Non-Null Count   Dtype  \n---  ------                    --------------   -----  \n 0   �id                       997928 non-null  object \n 1   dataNotificacao           996897 non-null  object \n 2   dataNascimento            997928 non-null  object \n 3   sintomas                  997484 non-null  object \n 4   condicoes                 91433 non-null   object \n 5   tipoTeste                 806270 non-null  object \n 6   resultadoTeste            706051 non-null  object \n 7   sexo                      997922 non-null  object \n 8   estado                    997928 non-null  object \n 9   estadoIBGE                997928 non-null  int64  \n 10  municipio                 997922 non-null  object \n 11  municipioIBGE             997846 non-null  float64\n 12  municipioNotificacao      997907 non-null  object \n 13  municipioNotificacaoIBGE  997070 non-null  float64\n 14  idade                     997924 non-null  float64\n 15  evolucaoCaso              211417 non-null  object \n 16  classificacaoFinal        217605 non-null  object \ndtypes: float64(3), int64(1), object(13)\nmemory usage: 129.4+ MB\n"
     ]
    }
   ],
   "source": [
    "dfConvidMA.drop(columns=['dataInicioSintomas','profissionalSaude','cbo','dataTeste', 'estadoTeste','paisOrigem','origem','paisOrigem','estadoNotificacao','estadoNotificacaoIBGE','excluido','validado','dataEncerramento'], inplace=True)\n",
    "dfConvidMA.info()"
   ]
  },
  {
   "cell_type": "code",
   "execution_count": 5,
   "metadata": {},
   "outputs": [],
   "source": [
    "dfConvidMA.to_csv(\"../dataset/dadosTratados-ma.csv\", sep=\";\")"
   ]
  },
  {
   "cell_type": "code",
   "execution_count": null,
   "metadata": {},
   "outputs": [],
   "source": []
  }
 ]
}